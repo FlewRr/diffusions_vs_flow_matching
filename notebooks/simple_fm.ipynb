{
  "nbformat": 4,
  "nbformat_minor": 0,
  "metadata": {
    "colab": {
      "provenance": []
    },
    "kernelspec": {
      "name": "python3",
      "display_name": "Python 3"
    },
    "language_info": {
      "name": "python"
    }
  },
  "cells": [
    {
      "cell_type": "code",
      "source": [
        "from matplotlib import pyplot as plt\n",
        "import torch\n",
        "import torch.nn as nn\n",
        "\n",
        "import numpy as np"
      ],
      "metadata": {
        "id": "Gdwp-f6xcp5k"
      },
      "execution_count": 1,
      "outputs": []
    },
    {
      "cell_type": "code",
      "execution_count": 2,
      "metadata": {
        "id": "ugJch1fkb621"
      },
      "outputs": [],
      "source": [
        "def generate_star(n_spikes=5, inner_radius=0.4, outer_radius=1.0, n_samples=1000, center=(0, 0)):\n",
        "    points = []\n",
        "    angle_step = np.pi / n_spikes\n",
        "\n",
        "    # Generate the star's vertices\n",
        "    vertices = []\n",
        "    for i in range(2 * n_spikes):\n",
        "        angle = i * angle_step\n",
        "        radius = outer_radius if i % 2 == 0 else inner_radius\n",
        "\n",
        "        x = radius * np.cos(angle) + center[0]\n",
        "        y = radius * np.sin(angle) + center[1]\n",
        "        vertices.append([x, y])\n",
        "    vertices.append(vertices[0])\n",
        "\n",
        "    # Sample points along the star's edges\n",
        "    vertices = np.array(vertices)\n",
        "    sampled_points = []\n",
        "\n",
        "    for i in range(len(vertices) - 1):\n",
        "        start_point = vertices[i]\n",
        "        end_point = vertices[i + 1]\n",
        "\n",
        "        # Interpolate points along the edge\n",
        "        for t in np.linspace(0, 1, n_samples // (len(vertices) - 1)):\n",
        "            point = (1 - t) * start_point + t * end_point\n",
        "            sampled_points.append(point)\n",
        "\n",
        "    return np.array(sampled_points)"
      ]
    },
    {
      "cell_type": "code",
      "source": [
        "class Flow(nn.Module):\n",
        "  def __init__(self, dim: int = 2, hid: int = 64):\n",
        "    super().__init__()\n",
        "    self.net = nn.Sequential(\n",
        "        nn.Linear(dim+1, hid), nn.ELU(),\n",
        "        nn.Linear(hid, hid), nn.ELU(),\n",
        "        nn.Linear(hid, hid), nn.ELU(),\n",
        "        nn.Linear(hid, dim)\n",
        "    )\n",
        "\n",
        "  def forward(self, t: torch.Tensor, x_t: torch.Tensor) -> torch.Tensor:\n",
        "    return self.net(torch.cat([x_t, t], -1))\n",
        "\n",
        "  def step(self, x_t: torch.Tensor, t_start: torch.Tensor, t_end: torch.Tensor):\n",
        "    t_start = t_start.view(-1, 1).expand(x_t.shape[0], 1)\n",
        "    delta_t = (t_end - t_start)\n",
        "    t_mid = t_start + delta_t / 2\n",
        "\n",
        "    v = self(t_mid, x_t)\n",
        "\n",
        "    return x_t + delta_t * v"
      ],
      "metadata": {
        "id": "9q0hY8GIxnSC"
      },
      "execution_count": 3,
      "outputs": []
    },
    {
      "cell_type": "code",
      "source": [
        "device = \"cuda\" if torch.cuda.is_available() else \"cpu\""
      ],
      "metadata": {
        "id": "ymrvdX1o1cMr"
      },
      "execution_count": 4,
      "outputs": []
    },
    {
      "cell_type": "code",
      "source": [
        "flow = Flow(2, 64).to(device)\n",
        "\n",
        "optimizer = torch.optim.Adam(flow.parameters(), 1e-2)\n",
        "loss_fn = nn.MSELoss()\n",
        "\n",
        "for _ in range(2500):\n",
        "  x_1 = torch.Tensor(generate_star(n_samples=1024)).to(device)\n",
        "  x_0 = torch.randn_like(x_1)\n",
        "\n",
        "  t = torch.rand(len(x_1), 1, device=device)\n",
        "  x_t = (1 - t) * x_0 + t * x_1\n",
        "  dx_t = x_1 - x_0\n",
        "\n",
        "  pred = flow(x_t=x_t, t=t)\n",
        "  optimizer.zero_grad()\n",
        "  loss = loss_fn(pred, dx_t)\n",
        "  loss.backward()\n",
        "  optimizer.step()\n",
        "\n",
        "  if _ % 100 == 0:\n",
        "    print(f\"Epoch: {_} Train Loss: {loss.item() / 256}\")"
      ],
      "metadata": {
        "colab": {
          "base_uri": "https://localhost:8080/"
        },
        "id": "IvZT0abazr9O",
        "outputId": "be053f27-e78d-421d-b21e-e18e66de0a7b"
      },
      "execution_count": 6,
      "outputs": [
        {
          "output_type": "stream",
          "name": "stdout",
          "text": [
            "Epoch: 0 Train Loss: 0.004799309652298689\n",
            "Epoch: 100 Train Loss: 0.0032291733659803867\n",
            "Epoch: 200 Train Loss: 0.0028470417018979788\n",
            "Epoch: 300 Train Loss: 0.003056406741961837\n",
            "Epoch: 400 Train Loss: 0.002728142077103257\n",
            "Epoch: 500 Train Loss: 0.002993255387991667\n",
            "Epoch: 600 Train Loss: 0.0029228758066892624\n",
            "Epoch: 700 Train Loss: 0.0029074493795633316\n",
            "Epoch: 800 Train Loss: 0.002721037482842803\n",
            "Epoch: 900 Train Loss: 0.0028466179501265287\n",
            "Epoch: 1000 Train Loss: 0.0029581687413156033\n",
            "Epoch: 1100 Train Loss: 0.0031000052113085985\n",
            "Epoch: 1200 Train Loss: 0.002721753902733326\n",
            "Epoch: 1300 Train Loss: 0.0027628412935882807\n",
            "Epoch: 1400 Train Loss: 0.0028022341430187225\n",
            "Epoch: 1500 Train Loss: 0.002782669384032488\n",
            "Epoch: 1600 Train Loss: 0.0027853669598698616\n",
            "Epoch: 1700 Train Loss: 0.0027391063049435616\n",
            "Epoch: 1800 Train Loss: 0.0027404131833463907\n",
            "Epoch: 1900 Train Loss: 0.0026587527245283127\n",
            "Epoch: 2000 Train Loss: 0.0027634501457214355\n",
            "Epoch: 2100 Train Loss: 0.0028665941208601\n",
            "Epoch: 2200 Train Loss: 0.0026677080895751715\n",
            "Epoch: 2300 Train Loss: 0.0027398625388741493\n",
            "Epoch: 2400 Train Loss: 0.0029806438833475113\n"
          ]
        }
      ]
    },
    {
      "cell_type": "code",
      "source": [
        "from matplotlib import pyplot as plt"
      ],
      "metadata": {
        "id": "iUyJZRcV27oH"
      },
      "execution_count": 7,
      "outputs": []
    },
    {
      "cell_type": "code",
      "source": [
        "x = torch.randn(1500, 2, device=device)\n",
        "n_steps = 10\n",
        "time_steps = torch.linspace(0, 1., n_steps + 1, device=device)\n",
        "\n",
        "ans = []\n",
        "for i in range(n_steps):\n",
        "  x = flow.step(x_t=x, t_start=time_steps[i], t_end=time_steps[i+1])\n",
        "  ans.append(x)"
      ],
      "metadata": {
        "id": "dY9m3DvN4B0i"
      },
      "execution_count": 8,
      "outputs": []
    },
    {
      "cell_type": "code",
      "source": [
        "import matplotlib.pyplot as plt\n",
        "import matplotlib.animation as animation\n",
        "\n",
        "def animate_2d_samples(sampled_steps, interval=200, save_path=\"flow_matching.gif\"):\n",
        "    fig, ax = plt.subplots()\n",
        "    scat = ax.scatter([], [], s=10)\n",
        "\n",
        "    def init():\n",
        "        ax.set_xlim(-5, 5)\n",
        "        ax.set_ylim(-5, 5)\n",
        "        return scat,\n",
        "\n",
        "    def update(frame):\n",
        "        data = sampled_steps[frame].detach().cpu()  # [N, 2]\n",
        "        scat.set_offsets(data.cpu().numpy())\n",
        "        timesteps = frame * 0.1\n",
        "        ax.set_title(f\"Timestep {timesteps:.1f}\")\n",
        "        return scat,\n",
        "\n",
        "    ani = animation.FuncAnimation(fig, update, frames=len(sampled_steps), init_func=init, blit=True, interval=interval)\n",
        "    ani.save(save_path, writer='pillow')\n",
        "    plt.close()"
      ],
      "metadata": {
        "id": "CkTM2QJG4M-F"
      },
      "execution_count": 21,
      "outputs": []
    },
    {
      "cell_type": "code",
      "source": [
        "animate_2d_samples(ans, interval=500)"
      ],
      "metadata": {
        "id": "1qpiaHcR4R8Q"
      },
      "execution_count": 22,
      "outputs": []
    }
  ]
}